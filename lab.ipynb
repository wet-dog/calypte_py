{
 "cells": [
  {
   "cell_type": "code",
   "execution_count": null,
   "metadata": {},
   "outputs": [],
   "source": [
    "import numpy as np\n",
    "from scipy import interpolate\n",
    "import matplotlib.pyplot as plt\n",
    "\n",
    "from enum import Enum\n",
    "from typing import NamedTuple\n",
    "\n",
    "from tmm_fast import coh_tmm"
   ]
  },
  {
   "cell_type": "code",
   "execution_count": 1,
   "metadata": {},
   "outputs": [
    {
     "name": "stdout",
     "output_type": "stream",
     "text": [
      "[[nan + nani],\n",
      " [0.0 + 0.0i],\n",
      " [0.0 + 0.0i],\n",
      " [0.0 + 0.0i],\n",
      " [0.0 + 0.0i],\n",
      " .. 40790 skipped ..,\n",
      " [0.0 + 31.99114418029785i],\n",
      " [0.0 + 31.95095443725586i],\n",
      " [0.0 + 31.910865783691406i],\n",
      " [0.0 + 31.870874404907227i],\n",
      " [0.0 + 31.830989837646484i]]\n"
     ]
    }
   ],
   "source": [
    "import drjit as dr\n",
    "import mitsuba as mi\n",
    "\n",
    "from drjit.cuda import Float, Complex2f, UInt32, Loop\n",
    "\n",
    "wavelength_count = 800\n",
    "wavelengths = dr.linspace(Float, 300, 800, wavelength_count)\n",
    "\n",
    "thetas = dr.linspace(Float, dr.deg2rad(0), dr.deg2rad(90), wavelength_count)\n",
    "\n",
    "layer_count = 51\n",
    "n_list = dr.ones(Complex2f, layer_count * wavelength_count)\n",
    "\n",
    "for i in range(layer_count):\n",
    "    all_indices = dr.arange(UInt32, 0, wavelength_count) + wavelength_count * i\n",
    "    dr.scatter(n_list, Complex2f(0, i), all_indices)\n",
    "\n",
    "for i in range(layer_count):\n",
    "    all_indices = dr.arange(UInt32, 0, wavelength_count) + wavelength_count * i\n",
    "    result = dr.gather(Complex2f, n_list, all_indices)\n",
    "    result /= thetas\n",
    "    dr.scatter(n_list, result, all_indices)\n",
    "\n",
    "print(n_list)"
   ]
  }
 ],
 "metadata": {
  "kernelspec": {
   "display_name": "venv",
   "language": "python",
   "name": "python3"
  },
  "language_info": {
   "name": "python",
   "version": "3.10.12"
  }
 },
 "nbformat": 4,
 "nbformat_minor": 2
}
